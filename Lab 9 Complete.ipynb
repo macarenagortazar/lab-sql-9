{
 "cells": [
  {
   "cell_type": "markdown",
   "metadata": {},
   "source": [
    "Instructions\n",
    "\n",
    "We will be trying to predict if a customer will be renting a film this month based on their previous activity and other details. We will first construct a table with:\n",
    "\n",
    "- Customer ID *\n",
    "- City *\n",
    "- Most rented film category\n",
    "- Total films rented *\n",
    "- Total money spent *\n",
    "- How many films rented last month*\n",
    "- Predict if he will be renting this month. \n",
    "- Use date range (15/05/2005 - 30/05/2005) for last month and (15/06/2005 - 30/06/2005) for this month."
   ]
  },
  {
   "cell_type": "markdown",
   "metadata": {},
   "source": [
    "# Importing Libraries"
   ]
  },
  {
   "cell_type": "code",
   "execution_count": 29,
   "metadata": {},
   "outputs": [
    {
     "name": "stdout",
     "output_type": "stream",
     "text": [
      "········\n"
     ]
    }
   ],
   "source": [
    "from sqlalchemy import create_engine\n",
    "import pandas as pd\n",
    "import getpass  # To get the password without showing the input\n",
    "password = getpass.getpass()"
   ]
  },
  {
   "cell_type": "code",
   "execution_count": 30,
   "metadata": {},
   "outputs": [],
   "source": [
    "import matplotlib\n",
    "import matplotlib.pyplot as plt\n",
    "import seaborn as sns\n",
    "import numpy as np\n",
    "sns.set_style(\"whitegrid\")"
   ]
  },
  {
   "cell_type": "markdown",
   "metadata": {},
   "source": [
    "# I. Establishing connection to my SQL"
   ]
  },
  {
   "cell_type": "code",
   "execution_count": 31,
   "metadata": {},
   "outputs": [],
   "source": [
    "connection_string = 'mysql+pymysql://root:' + password + '@localhost/bank'\n",
    "engine = create_engine(connection_string)"
   ]
  },
  {
   "cell_type": "markdown",
   "metadata": {},
   "source": [
    "# II. The data"
   ]
  },
  {
   "cell_type": "markdown",
   "metadata": {},
   "source": [
    "### Getting the tables"
   ]
  },
  {
   "cell_type": "markdown",
   "metadata": {},
   "source": [
    "a) From this query we get Customer ID, City, Total Films Rented and Total Money Spent"
   ]
  },
  {
   "cell_type": "code",
   "execution_count": 32,
   "metadata": {},
   "outputs": [
    {
     "data": {
      "text/html": [
       "<div>\n",
       "<style scoped>\n",
       "    .dataframe tbody tr th:only-of-type {\n",
       "        vertical-align: middle;\n",
       "    }\n",
       "\n",
       "    .dataframe tbody tr th {\n",
       "        vertical-align: top;\n",
       "    }\n",
       "\n",
       "    .dataframe thead th {\n",
       "        text-align: right;\n",
       "    }\n",
       "</style>\n",
       "<table border=\"1\" class=\"dataframe\">\n",
       "  <thead>\n",
       "    <tr style=\"text-align: right;\">\n",
       "      <th></th>\n",
       "      <th>Customer ID</th>\n",
       "      <th>City</th>\n",
       "      <th>Total Films Rented</th>\n",
       "      <th>Total Money Spent</th>\n",
       "    </tr>\n",
       "  </thead>\n",
       "  <tbody>\n",
       "    <tr>\n",
       "      <th>0</th>\n",
       "      <td>1</td>\n",
       "      <td>Sasebo</td>\n",
       "      <td>32</td>\n",
       "      <td>118.68</td>\n",
       "    </tr>\n",
       "    <tr>\n",
       "      <th>1</th>\n",
       "      <td>2</td>\n",
       "      <td>San Bernardino</td>\n",
       "      <td>27</td>\n",
       "      <td>128.73</td>\n",
       "    </tr>\n",
       "    <tr>\n",
       "      <th>2</th>\n",
       "      <td>3</td>\n",
       "      <td>Athenai</td>\n",
       "      <td>26</td>\n",
       "      <td>135.74</td>\n",
       "    </tr>\n",
       "    <tr>\n",
       "      <th>3</th>\n",
       "      <td>4</td>\n",
       "      <td>Myingyan</td>\n",
       "      <td>22</td>\n",
       "      <td>81.78</td>\n",
       "    </tr>\n",
       "    <tr>\n",
       "      <th>4</th>\n",
       "      <td>5</td>\n",
       "      <td>Nantou</td>\n",
       "      <td>38</td>\n",
       "      <td>144.62</td>\n",
       "    </tr>\n",
       "  </tbody>\n",
       "</table>\n",
       "</div>"
      ],
      "text/plain": [
       "   Customer ID            City  Total Films Rented  Total Money Spent\n",
       "0            1          Sasebo                  32             118.68\n",
       "1            2  San Bernardino                  27             128.73\n",
       "2            3         Athenai                  26             135.74\n",
       "3            4        Myingyan                  22              81.78\n",
       "4            5          Nantou                  38             144.62"
      ]
     },
     "execution_count": 32,
     "metadata": {},
     "output_type": "execute_result"
    }
   ],
   "source": [
    "query1 = \"select c.customer_id as 'Customer ID', ci.city as 'City', count(p.rental_id) as 'Total Films Rented',sum(p.amount) as 'Total Money Spent' from sakila.customer as c \\\n",
    "left join sakila.address as a \\\n",
    "on c.address_id=a.address_id \\\n",
    "left join sakila.city as ci \\\n",
    "on a.city_id=ci.city_id \\\n",
    "left join sakila.payment as p \\\n",
    "on c.customer_id=p.customer_id \\\n",
    "group by c.customer_id \\\n",
    "order by c.customer_id\"\n",
    "\n",
    "df1 = pd.read_sql_query(query1, engine)\n",
    "df1.head()"
   ]
  },
  {
   "cell_type": "markdown",
   "metadata": {},
   "source": [
    "b. Most rented Film Category"
   ]
  },
  {
   "cell_type": "code",
   "execution_count": 33,
   "metadata": {},
   "outputs": [
    {
     "data": {
      "text/html": [
       "<div>\n",
       "<style scoped>\n",
       "    .dataframe tbody tr th:only-of-type {\n",
       "        vertical-align: middle;\n",
       "    }\n",
       "\n",
       "    .dataframe tbody tr th {\n",
       "        vertical-align: top;\n",
       "    }\n",
       "\n",
       "    .dataframe thead th {\n",
       "        text-align: right;\n",
       "    }\n",
       "</style>\n",
       "<table border=\"1\" class=\"dataframe\">\n",
       "  <thead>\n",
       "    <tr style=\"text-align: right;\">\n",
       "      <th></th>\n",
       "      <th>customer_id</th>\n",
       "      <th>name</th>\n",
       "      <th>rented_movies</th>\n",
       "      <th>Position</th>\n",
       "    </tr>\n",
       "  </thead>\n",
       "  <tbody>\n",
       "    <tr>\n",
       "      <th>0</th>\n",
       "      <td>1</td>\n",
       "      <td>Classics</td>\n",
       "      <td>6</td>\n",
       "      <td>1</td>\n",
       "    </tr>\n",
       "    <tr>\n",
       "      <th>1</th>\n",
       "      <td>2</td>\n",
       "      <td>Sports</td>\n",
       "      <td>5</td>\n",
       "      <td>1</td>\n",
       "    </tr>\n",
       "    <tr>\n",
       "      <th>2</th>\n",
       "      <td>3</td>\n",
       "      <td>Action</td>\n",
       "      <td>4</td>\n",
       "      <td>1</td>\n",
       "    </tr>\n",
       "    <tr>\n",
       "      <th>3</th>\n",
       "      <td>4</td>\n",
       "      <td>Horror</td>\n",
       "      <td>3</td>\n",
       "      <td>1</td>\n",
       "    </tr>\n",
       "    <tr>\n",
       "      <th>4</th>\n",
       "      <td>5</td>\n",
       "      <td>Classics</td>\n",
       "      <td>7</td>\n",
       "      <td>1</td>\n",
       "    </tr>\n",
       "  </tbody>\n",
       "</table>\n",
       "</div>"
      ],
      "text/plain": [
       "   customer_id      name  rented_movies  Position\n",
       "0            1  Classics              6         1\n",
       "1            2    Sports              5         1\n",
       "2            3    Action              4         1\n",
       "3            4    Horror              3         1\n",
       "4            5  Classics              7         1"
      ]
     },
     "execution_count": 33,
     "metadata": {},
     "output_type": "execute_result"
    }
   ],
   "source": [
    "query2=\"with cte_ranked_categories as (select r.customer_id, c.name, count(r.rental_id) as rented_movies, row_number() over (partition by customer_id order by count(r.rental_id) desc) as Position from sakila.rental as r \\\n",
    "join sakila.inventory as i \\\n",
    "on r.inventory_id=i.inventory_id \\\n",
    "join sakila.film_category as fc \\\n",
    "on i.film_id=fc.film_id \\\n",
    "join sakila.category as c \\\n",
    "on fc.category_id=c.category_id \\\n",
    "group by customer_id, name \\\n",
    "order by customer_id, count(r.rental_id) desc) \\\n",
    "select*from cte_ranked_categories \\\n",
    "where Position=1\"\n",
    "df2 = pd.read_sql_query(query2, engine)\n",
    "df2.head()"
   ]
  },
  {
   "cell_type": "code",
   "execution_count": 34,
   "metadata": {},
   "outputs": [],
   "source": [
    "df2=df2.drop([\"customer_id\",\"rented_movies\",\"Position\"], axis=1)"
   ]
  },
  {
   "cell_type": "markdown",
   "metadata": {},
   "source": [
    "c. Films rented last month"
   ]
  },
  {
   "cell_type": "code",
   "execution_count": 35,
   "metadata": {},
   "outputs": [
    {
     "name": "stdout",
     "output_type": "stream",
     "text": [
      "(599, 2)\n"
     ]
    },
    {
     "data": {
      "text/html": [
       "<div>\n",
       "<style scoped>\n",
       "    .dataframe tbody tr th:only-of-type {\n",
       "        vertical-align: middle;\n",
       "    }\n",
       "\n",
       "    .dataframe tbody tr th {\n",
       "        vertical-align: top;\n",
       "    }\n",
       "\n",
       "    .dataframe thead th {\n",
       "        text-align: right;\n",
       "    }\n",
       "</style>\n",
       "<table border=\"1\" class=\"dataframe\">\n",
       "  <thead>\n",
       "    <tr style=\"text-align: right;\">\n",
       "      <th></th>\n",
       "      <th>Customer ID</th>\n",
       "      <th>Last month rentals</th>\n",
       "    </tr>\n",
       "  </thead>\n",
       "  <tbody>\n",
       "    <tr>\n",
       "      <th>0</th>\n",
       "      <td>1</td>\n",
       "      <td>2</td>\n",
       "    </tr>\n",
       "    <tr>\n",
       "      <th>1</th>\n",
       "      <td>2</td>\n",
       "      <td>1</td>\n",
       "    </tr>\n",
       "    <tr>\n",
       "      <th>2</th>\n",
       "      <td>3</td>\n",
       "      <td>2</td>\n",
       "    </tr>\n",
       "    <tr>\n",
       "      <th>3</th>\n",
       "      <td>4</td>\n",
       "      <td>0</td>\n",
       "    </tr>\n",
       "    <tr>\n",
       "      <th>4</th>\n",
       "      <td>5</td>\n",
       "      <td>1</td>\n",
       "    </tr>\n",
       "  </tbody>\n",
       "</table>\n",
       "</div>"
      ],
      "text/plain": [
       "   Customer ID  Last month rentals\n",
       "0            1                   2\n",
       "1            2                   1\n",
       "2            3                   2\n",
       "3            4                   0\n",
       "4            5                   1"
      ]
     },
     "execution_count": 35,
     "metadata": {},
     "output_type": "execute_result"
    }
   ],
   "source": [
    "query3 =\"select c.customer_id as 'Customer ID', count(r.rental_id) as 'Last month rentals' from sakila.customer as c \\\n",
    "left outer join sakila.rental as r \\\n",
    "on c.customer_id=r.customer_id and (r.rental_date >= '2005-05-15') and (r.rental_date <= '2005-05-30') \\\n",
    "group by c.customer_id \\\n",
    "order by c.customer_id\"\n",
    "df3 = pd.read_sql_query(query3, engine)\n",
    "print(df3.shape)\n",
    "df3.head()"
   ]
  },
  {
   "cell_type": "code",
   "execution_count": 36,
   "metadata": {},
   "outputs": [],
   "source": [
    "df3=df3.drop(\"Customer ID\", axis=1)"
   ]
  },
  {
   "cell_type": "markdown",
   "metadata": {},
   "source": [
    "d. Films rented this month"
   ]
  },
  {
   "cell_type": "code",
   "execution_count": 37,
   "metadata": {},
   "outputs": [
    {
     "name": "stdout",
     "output_type": "stream",
     "text": [
      "(599, 2)\n"
     ]
    },
    {
     "data": {
      "text/html": [
       "<div>\n",
       "<style scoped>\n",
       "    .dataframe tbody tr th:only-of-type {\n",
       "        vertical-align: middle;\n",
       "    }\n",
       "\n",
       "    .dataframe tbody tr th {\n",
       "        vertical-align: top;\n",
       "    }\n",
       "\n",
       "    .dataframe thead th {\n",
       "        text-align: right;\n",
       "    }\n",
       "</style>\n",
       "<table border=\"1\" class=\"dataframe\">\n",
       "  <thead>\n",
       "    <tr style=\"text-align: right;\">\n",
       "      <th></th>\n",
       "      <th>Customer ID</th>\n",
       "      <th>This month rentals</th>\n",
       "    </tr>\n",
       "  </thead>\n",
       "  <tbody>\n",
       "    <tr>\n",
       "      <th>0</th>\n",
       "      <td>1</td>\n",
       "      <td>7</td>\n",
       "    </tr>\n",
       "    <tr>\n",
       "      <th>1</th>\n",
       "      <td>2</td>\n",
       "      <td>1</td>\n",
       "    </tr>\n",
       "    <tr>\n",
       "      <th>2</th>\n",
       "      <td>3</td>\n",
       "      <td>4</td>\n",
       "    </tr>\n",
       "    <tr>\n",
       "      <th>3</th>\n",
       "      <td>4</td>\n",
       "      <td>6</td>\n",
       "    </tr>\n",
       "    <tr>\n",
       "      <th>4</th>\n",
       "      <td>5</td>\n",
       "      <td>5</td>\n",
       "    </tr>\n",
       "  </tbody>\n",
       "</table>\n",
       "</div>"
      ],
      "text/plain": [
       "   Customer ID  This month rentals\n",
       "0            1                   7\n",
       "1            2                   1\n",
       "2            3                   4\n",
       "3            4                   6\n",
       "4            5                   5"
      ]
     },
     "execution_count": 37,
     "metadata": {},
     "output_type": "execute_result"
    }
   ],
   "source": [
    "query4 =\"select c.customer_id as 'Customer ID', count(r.rental_id) as 'This month rentals' from sakila.customer as c \\\n",
    "left outer join sakila.rental as r \\\n",
    "on c.customer_id=r.customer_id and (r.rental_date >= '2005-06-15') and (r.rental_date <= '2005-06-30') \\\n",
    "group by c.customer_id \\\n",
    "order by c.customer_id\"\n",
    "df4 = pd.read_sql_query(query4, engine)\n",
    "print(df4.shape)\n",
    "df4.head()"
   ]
  },
  {
   "cell_type": "code",
   "execution_count": 38,
   "metadata": {},
   "outputs": [],
   "source": [
    "df4=df4.drop(\"Customer ID\", axis=1)"
   ]
  },
  {
   "cell_type": "markdown",
   "metadata": {},
   "source": [
    "### Concatenating the tables"
   ]
  },
  {
   "cell_type": "code",
   "execution_count": 39,
   "metadata": {},
   "outputs": [
    {
     "name": "stdout",
     "output_type": "stream",
     "text": [
      "(599, 7)\n"
     ]
    },
    {
     "data": {
      "text/html": [
       "<div>\n",
       "<style scoped>\n",
       "    .dataframe tbody tr th:only-of-type {\n",
       "        vertical-align: middle;\n",
       "    }\n",
       "\n",
       "    .dataframe tbody tr th {\n",
       "        vertical-align: top;\n",
       "    }\n",
       "\n",
       "    .dataframe thead th {\n",
       "        text-align: right;\n",
       "    }\n",
       "</style>\n",
       "<table border=\"1\" class=\"dataframe\">\n",
       "  <thead>\n",
       "    <tr style=\"text-align: right;\">\n",
       "      <th></th>\n",
       "      <th>Customer ID</th>\n",
       "      <th>City</th>\n",
       "      <th>Total Films Rented</th>\n",
       "      <th>Total Money Spent</th>\n",
       "      <th>name</th>\n",
       "      <th>Last month rentals</th>\n",
       "      <th>This month rentals</th>\n",
       "    </tr>\n",
       "  </thead>\n",
       "  <tbody>\n",
       "    <tr>\n",
       "      <th>0</th>\n",
       "      <td>1</td>\n",
       "      <td>Sasebo</td>\n",
       "      <td>32</td>\n",
       "      <td>118.68</td>\n",
       "      <td>Classics</td>\n",
       "      <td>2</td>\n",
       "      <td>7</td>\n",
       "    </tr>\n",
       "    <tr>\n",
       "      <th>1</th>\n",
       "      <td>2</td>\n",
       "      <td>San Bernardino</td>\n",
       "      <td>27</td>\n",
       "      <td>128.73</td>\n",
       "      <td>Sports</td>\n",
       "      <td>1</td>\n",
       "      <td>1</td>\n",
       "    </tr>\n",
       "    <tr>\n",
       "      <th>2</th>\n",
       "      <td>3</td>\n",
       "      <td>Athenai</td>\n",
       "      <td>26</td>\n",
       "      <td>135.74</td>\n",
       "      <td>Action</td>\n",
       "      <td>2</td>\n",
       "      <td>4</td>\n",
       "    </tr>\n",
       "    <tr>\n",
       "      <th>3</th>\n",
       "      <td>4</td>\n",
       "      <td>Myingyan</td>\n",
       "      <td>22</td>\n",
       "      <td>81.78</td>\n",
       "      <td>Horror</td>\n",
       "      <td>0</td>\n",
       "      <td>6</td>\n",
       "    </tr>\n",
       "    <tr>\n",
       "      <th>4</th>\n",
       "      <td>5</td>\n",
       "      <td>Nantou</td>\n",
       "      <td>38</td>\n",
       "      <td>144.62</td>\n",
       "      <td>Classics</td>\n",
       "      <td>1</td>\n",
       "      <td>5</td>\n",
       "    </tr>\n",
       "  </tbody>\n",
       "</table>\n",
       "</div>"
      ],
      "text/plain": [
       "   Customer ID            City  Total Films Rented  Total Money Spent  \\\n",
       "0            1          Sasebo                  32             118.68   \n",
       "1            2  San Bernardino                  27             128.73   \n",
       "2            3         Athenai                  26             135.74   \n",
       "3            4        Myingyan                  22              81.78   \n",
       "4            5          Nantou                  38             144.62   \n",
       "\n",
       "       name  Last month rentals  This month rentals  \n",
       "0  Classics                   2                   7  \n",
       "1    Sports                   1                   1  \n",
       "2    Action                   2                   4  \n",
       "3    Horror                   0                   6  \n",
       "4  Classics                   1                   5  "
      ]
     },
     "execution_count": 39,
     "metadata": {},
     "output_type": "execute_result"
    }
   ],
   "source": [
    "df=pd.concat([df1,df2,df3,df4], axis=1)\n",
    "print(df.shape)\n",
    "df.head()"
   ]
  },
  {
   "cell_type": "markdown",
   "metadata": {},
   "source": [
    "# III. Data Cleaning"
   ]
  },
  {
   "cell_type": "markdown",
   "metadata": {},
   "source": [
    "#### 1. Changing the headers"
   ]
  },
  {
   "cell_type": "code",
   "execution_count": 40,
   "metadata": {},
   "outputs": [
    {
     "data": {
      "text/plain": [
       "Index(['Customer ID', 'City', 'Total Films Rented', 'Total Money Spent',\n",
       "       'name', 'Last month rentals', 'This month rentals'],\n",
       "      dtype='object')"
      ]
     },
     "execution_count": 40,
     "metadata": {},
     "output_type": "execute_result"
    }
   ],
   "source": [
    "df.columns"
   ]
  },
  {
   "cell_type": "code",
   "execution_count": 41,
   "metadata": {},
   "outputs": [
    {
     "data": {
      "text/html": [
       "<div>\n",
       "<style scoped>\n",
       "    .dataframe tbody tr th:only-of-type {\n",
       "        vertical-align: middle;\n",
       "    }\n",
       "\n",
       "    .dataframe tbody tr th {\n",
       "        vertical-align: top;\n",
       "    }\n",
       "\n",
       "    .dataframe thead th {\n",
       "        text-align: right;\n",
       "    }\n",
       "</style>\n",
       "<table border=\"1\" class=\"dataframe\">\n",
       "  <thead>\n",
       "    <tr style=\"text-align: right;\">\n",
       "      <th></th>\n",
       "      <th>Customer ID</th>\n",
       "      <th>City</th>\n",
       "      <th>Total Films Rented</th>\n",
       "      <th>Total Money Spent</th>\n",
       "      <th>Category</th>\n",
       "      <th>Rented Last Month</th>\n",
       "      <th>Rented This Month</th>\n",
       "    </tr>\n",
       "  </thead>\n",
       "  <tbody>\n",
       "    <tr>\n",
       "      <th>0</th>\n",
       "      <td>1</td>\n",
       "      <td>Sasebo</td>\n",
       "      <td>32</td>\n",
       "      <td>118.68</td>\n",
       "      <td>Classics</td>\n",
       "      <td>2</td>\n",
       "      <td>7</td>\n",
       "    </tr>\n",
       "    <tr>\n",
       "      <th>1</th>\n",
       "      <td>2</td>\n",
       "      <td>San Bernardino</td>\n",
       "      <td>27</td>\n",
       "      <td>128.73</td>\n",
       "      <td>Sports</td>\n",
       "      <td>1</td>\n",
       "      <td>1</td>\n",
       "    </tr>\n",
       "    <tr>\n",
       "      <th>2</th>\n",
       "      <td>3</td>\n",
       "      <td>Athenai</td>\n",
       "      <td>26</td>\n",
       "      <td>135.74</td>\n",
       "      <td>Action</td>\n",
       "      <td>2</td>\n",
       "      <td>4</td>\n",
       "    </tr>\n",
       "    <tr>\n",
       "      <th>3</th>\n",
       "      <td>4</td>\n",
       "      <td>Myingyan</td>\n",
       "      <td>22</td>\n",
       "      <td>81.78</td>\n",
       "      <td>Horror</td>\n",
       "      <td>0</td>\n",
       "      <td>6</td>\n",
       "    </tr>\n",
       "    <tr>\n",
       "      <th>4</th>\n",
       "      <td>5</td>\n",
       "      <td>Nantou</td>\n",
       "      <td>38</td>\n",
       "      <td>144.62</td>\n",
       "      <td>Classics</td>\n",
       "      <td>1</td>\n",
       "      <td>5</td>\n",
       "    </tr>\n",
       "  </tbody>\n",
       "</table>\n",
       "</div>"
      ],
      "text/plain": [
       "   Customer ID            City  Total Films Rented  Total Money Spent  \\\n",
       "0            1          Sasebo                  32             118.68   \n",
       "1            2  San Bernardino                  27             128.73   \n",
       "2            3         Athenai                  26             135.74   \n",
       "3            4        Myingyan                  22              81.78   \n",
       "4            5          Nantou                  38             144.62   \n",
       "\n",
       "   Category  Rented Last Month  Rented This Month  \n",
       "0  Classics                  2                  7  \n",
       "1    Sports                  1                  1  \n",
       "2    Action                  2                  4  \n",
       "3    Horror                  0                  6  \n",
       "4  Classics                  1                  5  "
      ]
     },
     "execution_count": 41,
     "metadata": {},
     "output_type": "execute_result"
    }
   ],
   "source": [
    "df.columns= (['Customer ID', 'City', 'Total Films Rented', 'Total Money Spent',\n",
    "       'Category', 'Rented Last Month',\n",
    "       'Rented This Month'])\n",
    "df.head()"
   ]
  },
  {
   "cell_type": "markdown",
   "metadata": {},
   "source": [
    "#### 2. Checking the data type"
   ]
  },
  {
   "cell_type": "code",
   "execution_count": 42,
   "metadata": {},
   "outputs": [
    {
     "name": "stdout",
     "output_type": "stream",
     "text": [
      "<class 'pandas.core.frame.DataFrame'>\n",
      "RangeIndex: 599 entries, 0 to 598\n",
      "Data columns (total 7 columns):\n",
      " #   Column              Non-Null Count  Dtype  \n",
      "---  ------              --------------  -----  \n",
      " 0   Customer ID         599 non-null    int64  \n",
      " 1   City                599 non-null    object \n",
      " 2   Total Films Rented  599 non-null    int64  \n",
      " 3   Total Money Spent   599 non-null    float64\n",
      " 4   Category            599 non-null    object \n",
      " 5   Rented Last Month   599 non-null    int64  \n",
      " 6   Rented This Month   599 non-null    int64  \n",
      "dtypes: float64(1), int64(4), object(2)\n",
      "memory usage: 32.9+ KB\n"
     ]
    }
   ],
   "source": [
    "df.info()"
   ]
  },
  {
   "cell_type": "code",
   "execution_count": 43,
   "metadata": {},
   "outputs": [],
   "source": [
    "#We will drop the column \"Customer ID\" because it is not useful for the exercise, we do not need it!\n",
    "df=df.drop(\"Customer ID\", axis=1)"
   ]
  },
  {
   "cell_type": "code",
   "execution_count": 45,
   "metadata": {},
   "outputs": [
    {
     "name": "stdout",
     "output_type": "stream",
     "text": [
      "<class 'pandas.core.frame.DataFrame'>\n",
      "RangeIndex: 599 entries, 0 to 598\n",
      "Data columns (total 6 columns):\n",
      " #   Column              Non-Null Count  Dtype  \n",
      "---  ------              --------------  -----  \n",
      " 0   City                599 non-null    object \n",
      " 1   Total Films Rented  599 non-null    int64  \n",
      " 2   Total Money Spent   599 non-null    float64\n",
      " 3   Category            599 non-null    object \n",
      " 4   Rented Last Month   599 non-null    int64  \n",
      " 5   Rented This Month   599 non-null    int64  \n",
      "dtypes: float64(1), int64(3), object(2)\n",
      "memory usage: 28.2+ KB\n"
     ]
    }
   ],
   "source": [
    "df.info()"
   ]
  },
  {
   "cell_type": "code",
   "execution_count": 46,
   "metadata": {},
   "outputs": [],
   "source": [
    "#As we will be attempting a logistic regression model I will be transforming the data of the columns y which will be rented this and last month so that it becomes binary.\n",
    "\n",
    "for i in range(len(df)):\n",
    "    if df.loc[i, \"Rented Last Month\"]>0:\n",
    "        df.loc[i, \"Rented Last Month\"]='Yes'\n",
    "    else:\n",
    "        df.loc[i, \"Rented Last Month\"]='No'"
   ]
  },
  {
   "cell_type": "code",
   "execution_count": 47,
   "metadata": {},
   "outputs": [],
   "source": [
    "for i in range(len(df)):\n",
    "    if df.loc[i, \"Rented This Month\"]>0:\n",
    "        df.loc[i, \"Rented This Month\"]='Yes'\n",
    "    else:\n",
    "        df.loc[i, \"Rented This Month\"]='No'"
   ]
  },
  {
   "cell_type": "code",
   "execution_count": 48,
   "metadata": {},
   "outputs": [
    {
     "data": {
      "text/html": [
       "<div>\n",
       "<style scoped>\n",
       "    .dataframe tbody tr th:only-of-type {\n",
       "        vertical-align: middle;\n",
       "    }\n",
       "\n",
       "    .dataframe tbody tr th {\n",
       "        vertical-align: top;\n",
       "    }\n",
       "\n",
       "    .dataframe thead th {\n",
       "        text-align: right;\n",
       "    }\n",
       "</style>\n",
       "<table border=\"1\" class=\"dataframe\">\n",
       "  <thead>\n",
       "    <tr style=\"text-align: right;\">\n",
       "      <th></th>\n",
       "      <th>City</th>\n",
       "      <th>Total Films Rented</th>\n",
       "      <th>Total Money Spent</th>\n",
       "      <th>Category</th>\n",
       "      <th>Rented Last Month</th>\n",
       "      <th>Rented This Month</th>\n",
       "    </tr>\n",
       "  </thead>\n",
       "  <tbody>\n",
       "    <tr>\n",
       "      <th>0</th>\n",
       "      <td>Sasebo</td>\n",
       "      <td>32</td>\n",
       "      <td>118.68</td>\n",
       "      <td>Classics</td>\n",
       "      <td>Yes</td>\n",
       "      <td>Yes</td>\n",
       "    </tr>\n",
       "    <tr>\n",
       "      <th>1</th>\n",
       "      <td>San Bernardino</td>\n",
       "      <td>27</td>\n",
       "      <td>128.73</td>\n",
       "      <td>Sports</td>\n",
       "      <td>Yes</td>\n",
       "      <td>Yes</td>\n",
       "    </tr>\n",
       "    <tr>\n",
       "      <th>2</th>\n",
       "      <td>Athenai</td>\n",
       "      <td>26</td>\n",
       "      <td>135.74</td>\n",
       "      <td>Action</td>\n",
       "      <td>Yes</td>\n",
       "      <td>Yes</td>\n",
       "    </tr>\n",
       "    <tr>\n",
       "      <th>3</th>\n",
       "      <td>Myingyan</td>\n",
       "      <td>22</td>\n",
       "      <td>81.78</td>\n",
       "      <td>Horror</td>\n",
       "      <td>No</td>\n",
       "      <td>Yes</td>\n",
       "    </tr>\n",
       "    <tr>\n",
       "      <th>4</th>\n",
       "      <td>Nantou</td>\n",
       "      <td>38</td>\n",
       "      <td>144.62</td>\n",
       "      <td>Classics</td>\n",
       "      <td>Yes</td>\n",
       "      <td>Yes</td>\n",
       "    </tr>\n",
       "  </tbody>\n",
       "</table>\n",
       "</div>"
      ],
      "text/plain": [
       "             City  Total Films Rented  Total Money Spent  Category  \\\n",
       "0          Sasebo                  32             118.68  Classics   \n",
       "1  San Bernardino                  27             128.73    Sports   \n",
       "2         Athenai                  26             135.74    Action   \n",
       "3        Myingyan                  22              81.78    Horror   \n",
       "4          Nantou                  38             144.62  Classics   \n",
       "\n",
       "  Rented Last Month Rented This Month  \n",
       "0               Yes               Yes  \n",
       "1               Yes               Yes  \n",
       "2               Yes               Yes  \n",
       "3                No               Yes  \n",
       "4               Yes               Yes  "
      ]
     },
     "execution_count": 48,
     "metadata": {},
     "output_type": "execute_result"
    }
   ],
   "source": [
    "df.head()"
   ]
  },
  {
   "cell_type": "markdown",
   "metadata": {},
   "source": [
    "#### 3. Drop duplicates"
   ]
  },
  {
   "cell_type": "code",
   "execution_count": 49,
   "metadata": {},
   "outputs": [
    {
     "data": {
      "text/html": [
       "<div>\n",
       "<style scoped>\n",
       "    .dataframe tbody tr th:only-of-type {\n",
       "        vertical-align: middle;\n",
       "    }\n",
       "\n",
       "    .dataframe tbody tr th {\n",
       "        vertical-align: top;\n",
       "    }\n",
       "\n",
       "    .dataframe thead th {\n",
       "        text-align: right;\n",
       "    }\n",
       "</style>\n",
       "<table border=\"1\" class=\"dataframe\">\n",
       "  <thead>\n",
       "    <tr style=\"text-align: right;\">\n",
       "      <th></th>\n",
       "      <th>City</th>\n",
       "      <th>Total Films Rented</th>\n",
       "      <th>Total Money Spent</th>\n",
       "      <th>Category</th>\n",
       "      <th>Rented Last Month</th>\n",
       "      <th>Rented This Month</th>\n",
       "    </tr>\n",
       "  </thead>\n",
       "  <tbody>\n",
       "    <tr>\n",
       "      <th>0</th>\n",
       "      <td>Sasebo</td>\n",
       "      <td>32</td>\n",
       "      <td>118.68</td>\n",
       "      <td>Classics</td>\n",
       "      <td>Yes</td>\n",
       "      <td>Yes</td>\n",
       "    </tr>\n",
       "    <tr>\n",
       "      <th>1</th>\n",
       "      <td>San Bernardino</td>\n",
       "      <td>27</td>\n",
       "      <td>128.73</td>\n",
       "      <td>Sports</td>\n",
       "      <td>Yes</td>\n",
       "      <td>Yes</td>\n",
       "    </tr>\n",
       "    <tr>\n",
       "      <th>2</th>\n",
       "      <td>Athenai</td>\n",
       "      <td>26</td>\n",
       "      <td>135.74</td>\n",
       "      <td>Action</td>\n",
       "      <td>Yes</td>\n",
       "      <td>Yes</td>\n",
       "    </tr>\n",
       "    <tr>\n",
       "      <th>3</th>\n",
       "      <td>Myingyan</td>\n",
       "      <td>22</td>\n",
       "      <td>81.78</td>\n",
       "      <td>Horror</td>\n",
       "      <td>No</td>\n",
       "      <td>Yes</td>\n",
       "    </tr>\n",
       "    <tr>\n",
       "      <th>4</th>\n",
       "      <td>Nantou</td>\n",
       "      <td>38</td>\n",
       "      <td>144.62</td>\n",
       "      <td>Classics</td>\n",
       "      <td>Yes</td>\n",
       "      <td>Yes</td>\n",
       "    </tr>\n",
       "    <tr>\n",
       "      <th>...</th>\n",
       "      <td>...</td>\n",
       "      <td>...</td>\n",
       "      <td>...</td>\n",
       "      <td>...</td>\n",
       "      <td>...</td>\n",
       "      <td>...</td>\n",
       "    </tr>\n",
       "    <tr>\n",
       "      <th>594</th>\n",
       "      <td>Jinzhou</td>\n",
       "      <td>30</td>\n",
       "      <td>117.70</td>\n",
       "      <td>Documentary</td>\n",
       "      <td>Yes</td>\n",
       "      <td>Yes</td>\n",
       "    </tr>\n",
       "    <tr>\n",
       "      <th>595</th>\n",
       "      <td>Patras</td>\n",
       "      <td>28</td>\n",
       "      <td>96.72</td>\n",
       "      <td>Sports</td>\n",
       "      <td>Yes</td>\n",
       "      <td>Yes</td>\n",
       "    </tr>\n",
       "    <tr>\n",
       "      <th>596</th>\n",
       "      <td>Sullana</td>\n",
       "      <td>25</td>\n",
       "      <td>99.75</td>\n",
       "      <td>Foreign</td>\n",
       "      <td>Yes</td>\n",
       "      <td>Yes</td>\n",
       "    </tr>\n",
       "    <tr>\n",
       "      <th>597</th>\n",
       "      <td>Lausanne</td>\n",
       "      <td>22</td>\n",
       "      <td>83.78</td>\n",
       "      <td>Drama</td>\n",
       "      <td>No</td>\n",
       "      <td>Yes</td>\n",
       "    </tr>\n",
       "    <tr>\n",
       "      <th>598</th>\n",
       "      <td>Tieli</td>\n",
       "      <td>19</td>\n",
       "      <td>83.81</td>\n",
       "      <td>Sci-Fi</td>\n",
       "      <td>No</td>\n",
       "      <td>Yes</td>\n",
       "    </tr>\n",
       "  </tbody>\n",
       "</table>\n",
       "<p>599 rows × 6 columns</p>\n",
       "</div>"
      ],
      "text/plain": [
       "               City  Total Films Rented  Total Money Spent     Category  \\\n",
       "0            Sasebo                  32             118.68     Classics   \n",
       "1    San Bernardino                  27             128.73       Sports   \n",
       "2           Athenai                  26             135.74       Action   \n",
       "3          Myingyan                  22              81.78       Horror   \n",
       "4            Nantou                  38             144.62     Classics   \n",
       "..              ...                 ...                ...          ...   \n",
       "594         Jinzhou                  30             117.70  Documentary   \n",
       "595          Patras                  28              96.72       Sports   \n",
       "596         Sullana                  25              99.75      Foreign   \n",
       "597        Lausanne                  22              83.78        Drama   \n",
       "598           Tieli                  19              83.81       Sci-Fi   \n",
       "\n",
       "    Rented Last Month Rented This Month  \n",
       "0                 Yes               Yes  \n",
       "1                 Yes               Yes  \n",
       "2                 Yes               Yes  \n",
       "3                  No               Yes  \n",
       "4                 Yes               Yes  \n",
       "..                ...               ...  \n",
       "594               Yes               Yes  \n",
       "595               Yes               Yes  \n",
       "596               Yes               Yes  \n",
       "597                No               Yes  \n",
       "598                No               Yes  \n",
       "\n",
       "[599 rows x 6 columns]"
      ]
     },
     "execution_count": 49,
     "metadata": {},
     "output_type": "execute_result"
    }
   ],
   "source": [
    "df.drop_duplicates()"
   ]
  },
  {
   "cell_type": "markdown",
   "metadata": {},
   "source": [
    "=> There were no duplicates"
   ]
  },
  {
   "cell_type": "markdown",
   "metadata": {},
   "source": [
    "# IV. Data Processing"
   ]
  },
  {
   "cell_type": "markdown",
   "metadata": {},
   "source": [
    "### I. X-Y Split"
   ]
  },
  {
   "cell_type": "code",
   "execution_count": 90,
   "metadata": {},
   "outputs": [],
   "source": [
    "y=df[\"Rented This Month\"]\n",
    "x=df.drop([\"Rented This Month\"], axis=1)"
   ]
  },
  {
   "cell_type": "code",
   "execution_count": 91,
   "metadata": {},
   "outputs": [
    {
     "data": {
      "text/html": [
       "<div>\n",
       "<style scoped>\n",
       "    .dataframe tbody tr th:only-of-type {\n",
       "        vertical-align: middle;\n",
       "    }\n",
       "\n",
       "    .dataframe tbody tr th {\n",
       "        vertical-align: top;\n",
       "    }\n",
       "\n",
       "    .dataframe thead th {\n",
       "        text-align: right;\n",
       "    }\n",
       "</style>\n",
       "<table border=\"1\" class=\"dataframe\">\n",
       "  <thead>\n",
       "    <tr style=\"text-align: right;\">\n",
       "      <th></th>\n",
       "      <th>City</th>\n",
       "      <th>Total Films Rented</th>\n",
       "      <th>Total Money Spent</th>\n",
       "      <th>Category</th>\n",
       "      <th>Rented Last Month</th>\n",
       "    </tr>\n",
       "  </thead>\n",
       "  <tbody>\n",
       "    <tr>\n",
       "      <th>0</th>\n",
       "      <td>Sasebo</td>\n",
       "      <td>32</td>\n",
       "      <td>118.68</td>\n",
       "      <td>Classics</td>\n",
       "      <td>Yes</td>\n",
       "    </tr>\n",
       "    <tr>\n",
       "      <th>1</th>\n",
       "      <td>San Bernardino</td>\n",
       "      <td>27</td>\n",
       "      <td>128.73</td>\n",
       "      <td>Sports</td>\n",
       "      <td>Yes</td>\n",
       "    </tr>\n",
       "    <tr>\n",
       "      <th>2</th>\n",
       "      <td>Athenai</td>\n",
       "      <td>26</td>\n",
       "      <td>135.74</td>\n",
       "      <td>Action</td>\n",
       "      <td>Yes</td>\n",
       "    </tr>\n",
       "    <tr>\n",
       "      <th>3</th>\n",
       "      <td>Myingyan</td>\n",
       "      <td>22</td>\n",
       "      <td>81.78</td>\n",
       "      <td>Horror</td>\n",
       "      <td>No</td>\n",
       "    </tr>\n",
       "    <tr>\n",
       "      <th>4</th>\n",
       "      <td>Nantou</td>\n",
       "      <td>38</td>\n",
       "      <td>144.62</td>\n",
       "      <td>Classics</td>\n",
       "      <td>Yes</td>\n",
       "    </tr>\n",
       "  </tbody>\n",
       "</table>\n",
       "</div>"
      ],
      "text/plain": [
       "             City  Total Films Rented  Total Money Spent  Category  \\\n",
       "0          Sasebo                  32             118.68  Classics   \n",
       "1  San Bernardino                  27             128.73    Sports   \n",
       "2         Athenai                  26             135.74    Action   \n",
       "3        Myingyan                  22              81.78    Horror   \n",
       "4          Nantou                  38             144.62  Classics   \n",
       "\n",
       "  Rented Last Month  \n",
       "0               Yes  \n",
       "1               Yes  \n",
       "2               Yes  \n",
       "3                No  \n",
       "4               Yes  "
      ]
     },
     "execution_count": 91,
     "metadata": {},
     "output_type": "execute_result"
    }
   ],
   "source": [
    "x.head()"
   ]
  },
  {
   "cell_type": "markdown",
   "metadata": {},
   "source": [
    "### II. Numerical Data"
   ]
  },
  {
   "cell_type": "code",
   "execution_count": 92,
   "metadata": {},
   "outputs": [
    {
     "data": {
      "text/html": [
       "<div>\n",
       "<style scoped>\n",
       "    .dataframe tbody tr th:only-of-type {\n",
       "        vertical-align: middle;\n",
       "    }\n",
       "\n",
       "    .dataframe tbody tr th {\n",
       "        vertical-align: top;\n",
       "    }\n",
       "\n",
       "    .dataframe thead th {\n",
       "        text-align: right;\n",
       "    }\n",
       "</style>\n",
       "<table border=\"1\" class=\"dataframe\">\n",
       "  <thead>\n",
       "    <tr style=\"text-align: right;\">\n",
       "      <th></th>\n",
       "      <th>Total Films Rented</th>\n",
       "      <th>Total Money Spent</th>\n",
       "    </tr>\n",
       "  </thead>\n",
       "  <tbody>\n",
       "    <tr>\n",
       "      <th>0</th>\n",
       "      <td>32</td>\n",
       "      <td>118.68</td>\n",
       "    </tr>\n",
       "    <tr>\n",
       "      <th>1</th>\n",
       "      <td>27</td>\n",
       "      <td>128.73</td>\n",
       "    </tr>\n",
       "    <tr>\n",
       "      <th>2</th>\n",
       "      <td>26</td>\n",
       "      <td>135.74</td>\n",
       "    </tr>\n",
       "    <tr>\n",
       "      <th>3</th>\n",
       "      <td>22</td>\n",
       "      <td>81.78</td>\n",
       "    </tr>\n",
       "    <tr>\n",
       "      <th>4</th>\n",
       "      <td>38</td>\n",
       "      <td>144.62</td>\n",
       "    </tr>\n",
       "  </tbody>\n",
       "</table>\n",
       "</div>"
      ],
      "text/plain": [
       "   Total Films Rented  Total Money Spent\n",
       "0                  32             118.68\n",
       "1                  27             128.73\n",
       "2                  26             135.74\n",
       "3                  22              81.78\n",
       "4                  38             144.62"
      ]
     },
     "execution_count": 92,
     "metadata": {},
     "output_type": "execute_result"
    }
   ],
   "source": [
    "#Getting the numerical data \n",
    "x_num=df.select_dtypes(\"number\")\n",
    "x_num.head()"
   ]
  },
  {
   "cell_type": "code",
   "execution_count": 93,
   "metadata": {},
   "outputs": [
    {
     "name": "stdout",
     "output_type": "stream",
     "text": [
      "Distplot:  Total Films Rented\n"
     ]
    },
    {
     "data": {
      "image/png": "[encoded data removed]",
      "text/plain": [
       "<Figure size 432x288 with 1 Axes>"
      ]
     },
     "metadata": {},
     "output_type": "display_data"
    },
    {
     "name": "stdout",
     "output_type": "stream",
     "text": [
      "Distplot:  Total Money Spent\n"
     ]
    },
    {
     "data": {
      "image/png": "[encoded data removed]",
      "text/plain": [
       "<Figure size 432x288 with 1 Axes>"
      ]
     },
     "metadata": {},
     "output_type": "display_data"
    }
   ],
   "source": [
    "#Normalisation check\n",
    "cols = list(x_num)\n",
    "for col in cols:\n",
    "    print(\"Distplot: \",col)\n",
    "    sns.distplot(x_num[col])\n",
    "    plt.show()"
   ]
  },
  {
   "cell_type": "code",
   "execution_count": 94,
   "metadata": {},
   "outputs": [
    {
     "data": {
      "text/html": [
       "<div>\n",
       "<style scoped>\n",
       "    .dataframe tbody tr th:only-of-type {\n",
       "        vertical-align: middle;\n",
       "    }\n",
       "\n",
       "    .dataframe tbody tr th {\n",
       "        vertical-align: top;\n",
       "    }\n",
       "\n",
       "    .dataframe thead th {\n",
       "        text-align: right;\n",
       "    }\n",
       "</style>\n",
       "<table border=\"1\" class=\"dataframe\">\n",
       "  <thead>\n",
       "    <tr style=\"text-align: right;\">\n",
       "      <th></th>\n",
       "      <th>0</th>\n",
       "      <th>1</th>\n",
       "    </tr>\n",
       "  </thead>\n",
       "  <tbody>\n",
       "    <tr>\n",
       "      <th>0</th>\n",
       "      <td>0.260335</td>\n",
       "      <td>0.965518</td>\n",
       "    </tr>\n",
       "    <tr>\n",
       "      <th>1</th>\n",
       "      <td>0.205275</td>\n",
       "      <td>0.978704</td>\n",
       "    </tr>\n",
       "    <tr>\n",
       "      <th>2</th>\n",
       "      <td>0.188123</td>\n",
       "      <td>0.982146</td>\n",
       "    </tr>\n",
       "    <tr>\n",
       "      <th>3</th>\n",
       "      <td>0.259779</td>\n",
       "      <td>0.965668</td>\n",
       "    </tr>\n",
       "    <tr>\n",
       "      <th>4</th>\n",
       "      <td>0.254131</td>\n",
       "      <td>0.967170</td>\n",
       "    </tr>\n",
       "  </tbody>\n",
       "</table>\n",
       "</div>"
      ],
      "text/plain": [
       "          0         1\n",
       "0  0.260335  0.965518\n",
       "1  0.205275  0.978704\n",
       "2  0.188123  0.982146\n",
       "3  0.259779  0.965668\n",
       "4  0.254131  0.967170"
      ]
     },
     "execution_count": 94,
     "metadata": {},
     "output_type": "execute_result"
    }
   ],
   "source": [
    "#Normalisation\n",
    "from sklearn.preprocessing import Normalizer\n",
    "\n",
    "scaler=Normalizer().fit(x_num)\n",
    "x_normalised=scaler.transform(x_num)\n",
    "x_num_norm=pd.DataFrame(x_normalised)\n",
    "x_num_norm.head()"
   ]
  },
  {
   "cell_type": "code",
   "execution_count": 95,
   "metadata": {},
   "outputs": [
    {
     "data": {
      "text/html": [
       "<div>\n",
       "<style scoped>\n",
       "    .dataframe tbody tr th:only-of-type {\n",
       "        vertical-align: middle;\n",
       "    }\n",
       "\n",
       "    .dataframe tbody tr th {\n",
       "        vertical-align: top;\n",
       "    }\n",
       "\n",
       "    .dataframe thead th {\n",
       "        text-align: right;\n",
       "    }\n",
       "</style>\n",
       "<table border=\"1\" class=\"dataframe\">\n",
       "  <thead>\n",
       "    <tr style=\"text-align: right;\">\n",
       "      <th></th>\n",
       "      <th>Total Films Rented</th>\n",
       "      <th>Total Money Spent</th>\n",
       "    </tr>\n",
       "  </thead>\n",
       "  <tbody>\n",
       "    <tr>\n",
       "      <th>0</th>\n",
       "      <td>0.260335</td>\n",
       "      <td>0.965518</td>\n",
       "    </tr>\n",
       "    <tr>\n",
       "      <th>1</th>\n",
       "      <td>0.205275</td>\n",
       "      <td>0.978704</td>\n",
       "    </tr>\n",
       "    <tr>\n",
       "      <th>2</th>\n",
       "      <td>0.188123</td>\n",
       "      <td>0.982146</td>\n",
       "    </tr>\n",
       "    <tr>\n",
       "      <th>3</th>\n",
       "      <td>0.259779</td>\n",
       "      <td>0.965668</td>\n",
       "    </tr>\n",
       "    <tr>\n",
       "      <th>4</th>\n",
       "      <td>0.254131</td>\n",
       "      <td>0.967170</td>\n",
       "    </tr>\n",
       "  </tbody>\n",
       "</table>\n",
       "</div>"
      ],
      "text/plain": [
       "   Total Films Rented  Total Money Spent\n",
       "0            0.260335           0.965518\n",
       "1            0.205275           0.978704\n",
       "2            0.188123           0.982146\n",
       "3            0.259779           0.965668\n",
       "4            0.254131           0.967170"
      ]
     },
     "execution_count": 95,
     "metadata": {},
     "output_type": "execute_result"
    }
   ],
   "source": [
    "x_num_norm.columns=x_num.columns\n",
    "x_num_norm.head()"
   ]
  },
  {
   "cell_type": "code",
   "execution_count": 96,
   "metadata": {},
   "outputs": [
    {
     "name": "stdout",
     "output_type": "stream",
     "text": [
      "Distplot:  Total Films Rented\n"
     ]
    },
    {
     "data": {
      "image/png": "[encoded data removed]",
      "text/plain": [
       "<Figure size 432x288 with 1 Axes>"
      ]
     },
     "metadata": {},
     "output_type": "display_data"
    },
    {
     "name": "stdout",
     "output_type": "stream",
     "text": [
      "Distplot:  Total Money Spent\n"
     ]
    },
    {
     "data": {
      "image/png": "[encoded data removed]",
      "text/plain": [
       "<Figure size 432x288 with 1 Axes>"
      ]
     },
     "metadata": {},
     "output_type": "display_data"
    }
   ],
   "source": [
    "#Plot after normalisation\n",
    "cols = list(x_num_norm)\n",
    "for col in cols:\n",
    "    print(\"Distplot: \",col)\n",
    "    sns.distplot(x_num_norm[col])\n",
    "    plt.show()"
   ]
  },
  {
   "cell_type": "markdown",
   "metadata": {},
   "source": [
    "We can see the distribution has improved"
   ]
  },
  {
   "cell_type": "markdown",
   "metadata": {},
   "source": [
    "### III. Categorical Data"
   ]
  },
  {
   "cell_type": "code",
   "execution_count": 97,
   "metadata": {},
   "outputs": [
    {
     "data": {
      "text/html": [
       "<div>\n",
       "<style scoped>\n",
       "    .dataframe tbody tr th:only-of-type {\n",
       "        vertical-align: middle;\n",
       "    }\n",
       "\n",
       "    .dataframe tbody tr th {\n",
       "        vertical-align: top;\n",
       "    }\n",
       "\n",
       "    .dataframe thead th {\n",
       "        text-align: right;\n",
       "    }\n",
       "</style>\n",
       "<table border=\"1\" class=\"dataframe\">\n",
       "  <thead>\n",
       "    <tr style=\"text-align: right;\">\n",
       "      <th></th>\n",
       "      <th>City</th>\n",
       "      <th>Category</th>\n",
       "      <th>Rented Last Month</th>\n",
       "    </tr>\n",
       "  </thead>\n",
       "  <tbody>\n",
       "    <tr>\n",
       "      <th>0</th>\n",
       "      <td>Sasebo</td>\n",
       "      <td>Classics</td>\n",
       "      <td>Yes</td>\n",
       "    </tr>\n",
       "    <tr>\n",
       "      <th>1</th>\n",
       "      <td>San Bernardino</td>\n",
       "      <td>Sports</td>\n",
       "      <td>Yes</td>\n",
       "    </tr>\n",
       "    <tr>\n",
       "      <th>2</th>\n",
       "      <td>Athenai</td>\n",
       "      <td>Action</td>\n",
       "      <td>Yes</td>\n",
       "    </tr>\n",
       "    <tr>\n",
       "      <th>3</th>\n",
       "      <td>Myingyan</td>\n",
       "      <td>Horror</td>\n",
       "      <td>No</td>\n",
       "    </tr>\n",
       "    <tr>\n",
       "      <th>4</th>\n",
       "      <td>Nantou</td>\n",
       "      <td>Classics</td>\n",
       "      <td>Yes</td>\n",
       "    </tr>\n",
       "  </tbody>\n",
       "</table>\n",
       "</div>"
      ],
      "text/plain": [
       "             City  Category Rented Last Month\n",
       "0          Sasebo  Classics               Yes\n",
       "1  San Bernardino    Sports               Yes\n",
       "2         Athenai    Action               Yes\n",
       "3        Myingyan    Horror                No\n",
       "4          Nantou  Classics               Yes"
      ]
     },
     "execution_count": 97,
     "metadata": {},
     "output_type": "execute_result"
    }
   ],
   "source": [
    "#Getting the categorical data\n",
    "x_cat=x.select_dtypes(\"object\")\n",
    "x_cat.head()"
   ]
  },
  {
   "cell_type": "code",
   "execution_count": 98,
   "metadata": {},
   "outputs": [
    {
     "data": {
      "text/html": [
       "<div>\n",
       "<style scoped>\n",
       "    .dataframe tbody tr th:only-of-type {\n",
       "        vertical-align: middle;\n",
       "    }\n",
       "\n",
       "    .dataframe tbody tr th {\n",
       "        vertical-align: top;\n",
       "    }\n",
       "\n",
       "    .dataframe thead th {\n",
       "        text-align: right;\n",
       "    }\n",
       "</style>\n",
       "<table border=\"1\" class=\"dataframe\">\n",
       "  <thead>\n",
       "    <tr style=\"text-align: right;\">\n",
       "      <th></th>\n",
       "      <th>City_A Corua (La Corua)</th>\n",
       "      <th>City_Abha</th>\n",
       "      <th>City_Abu Dhabi</th>\n",
       "      <th>City_Acua</th>\n",
       "      <th>City_Adana</th>\n",
       "      <th>City_Addis Abeba</th>\n",
       "      <th>City_Aden</th>\n",
       "      <th>City_Adoni</th>\n",
       "      <th>City_Ahmadnagar</th>\n",
       "      <th>City_Akishima</th>\n",
       "      <th>...</th>\n",
       "      <th>Category_Foreign</th>\n",
       "      <th>Category_Games</th>\n",
       "      <th>Category_Horror</th>\n",
       "      <th>Category_Music</th>\n",
       "      <th>Category_New</th>\n",
       "      <th>Category_Sci-Fi</th>\n",
       "      <th>Category_Sports</th>\n",
       "      <th>Category_Travel</th>\n",
       "      <th>Rented Last Month_No</th>\n",
       "      <th>Rented Last Month_Yes</th>\n",
       "    </tr>\n",
       "  </thead>\n",
       "  <tbody>\n",
       "    <tr>\n",
       "      <th>0</th>\n",
       "      <td>0</td>\n",
       "      <td>0</td>\n",
       "      <td>0</td>\n",
       "      <td>0</td>\n",
       "      <td>0</td>\n",
       "      <td>0</td>\n",
       "      <td>0</td>\n",
       "      <td>0</td>\n",
       "      <td>0</td>\n",
       "      <td>0</td>\n",
       "      <td>...</td>\n",
       "      <td>0</td>\n",
       "      <td>0</td>\n",
       "      <td>0</td>\n",
       "      <td>0</td>\n",
       "      <td>0</td>\n",
       "      <td>0</td>\n",
       "      <td>0</td>\n",
       "      <td>0</td>\n",
       "      <td>0</td>\n",
       "      <td>1</td>\n",
       "    </tr>\n",
       "    <tr>\n",
       "      <th>1</th>\n",
       "      <td>0</td>\n",
       "      <td>0</td>\n",
       "      <td>0</td>\n",
       "      <td>0</td>\n",
       "      <td>0</td>\n",
       "      <td>0</td>\n",
       "      <td>0</td>\n",
       "      <td>0</td>\n",
       "      <td>0</td>\n",
       "      <td>0</td>\n",
       "      <td>...</td>\n",
       "      <td>0</td>\n",
       "      <td>0</td>\n",
       "      <td>0</td>\n",
       "      <td>0</td>\n",
       "      <td>0</td>\n",
       "      <td>0</td>\n",
       "      <td>1</td>\n",
       "      <td>0</td>\n",
       "      <td>0</td>\n",
       "      <td>1</td>\n",
       "    </tr>\n",
       "    <tr>\n",
       "      <th>2</th>\n",
       "      <td>0</td>\n",
       "      <td>0</td>\n",
       "      <td>0</td>\n",
       "      <td>0</td>\n",
       "      <td>0</td>\n",
       "      <td>0</td>\n",
       "      <td>0</td>\n",
       "      <td>0</td>\n",
       "      <td>0</td>\n",
       "      <td>0</td>\n",
       "      <td>...</td>\n",
       "      <td>0</td>\n",
       "      <td>0</td>\n",
       "      <td>0</td>\n",
       "      <td>0</td>\n",
       "      <td>0</td>\n",
       "      <td>0</td>\n",
       "      <td>0</td>\n",
       "      <td>0</td>\n",
       "      <td>0</td>\n",
       "      <td>1</td>\n",
       "    </tr>\n",
       "    <tr>\n",
       "      <th>3</th>\n",
       "      <td>0</td>\n",
       "      <td>0</td>\n",
       "      <td>0</td>\n",
       "      <td>0</td>\n",
       "      <td>0</td>\n",
       "      <td>0</td>\n",
       "      <td>0</td>\n",
       "      <td>0</td>\n",
       "      <td>0</td>\n",
       "      <td>0</td>\n",
       "      <td>...</td>\n",
       "      <td>0</td>\n",
       "      <td>0</td>\n",
       "      <td>1</td>\n",
       "      <td>0</td>\n",
       "      <td>0</td>\n",
       "      <td>0</td>\n",
       "      <td>0</td>\n",
       "      <td>0</td>\n",
       "      <td>1</td>\n",
       "      <td>0</td>\n",
       "    </tr>\n",
       "    <tr>\n",
       "      <th>4</th>\n",
       "      <td>0</td>\n",
       "      <td>0</td>\n",
       "      <td>0</td>\n",
       "      <td>0</td>\n",
       "      <td>0</td>\n",
       "      <td>0</td>\n",
       "      <td>0</td>\n",
       "      <td>0</td>\n",
       "      <td>0</td>\n",
       "      <td>0</td>\n",
       "      <td>...</td>\n",
       "      <td>0</td>\n",
       "      <td>0</td>\n",
       "      <td>0</td>\n",
       "      <td>0</td>\n",
       "      <td>0</td>\n",
       "      <td>0</td>\n",
       "      <td>0</td>\n",
       "      <td>0</td>\n",
       "      <td>0</td>\n",
       "      <td>1</td>\n",
       "    </tr>\n",
       "  </tbody>\n",
       "</table>\n",
       "<p>5 rows × 615 columns</p>\n",
       "</div>"
      ],
      "text/plain": [
       "   City_A Corua (La Corua)  City_Abha  City_Abu Dhabi  City_Acua  City_Adana  \\\n",
       "0                        0          0               0          0           0   \n",
       "1                        0          0               0          0           0   \n",
       "2                        0          0               0          0           0   \n",
       "3                        0          0               0          0           0   \n",
       "4                        0          0               0          0           0   \n",
       "\n",
       "   City_Addis Abeba  City_Aden  City_Adoni  City_Ahmadnagar  City_Akishima  \\\n",
       "0                 0          0           0                0              0   \n",
       "1                 0          0           0                0              0   \n",
       "2                 0          0           0                0              0   \n",
       "3                 0          0           0                0              0   \n",
       "4                 0          0           0                0              0   \n",
       "\n",
       "   ...  Category_Foreign  Category_Games  Category_Horror  Category_Music  \\\n",
       "0  ...                 0               0                0               0   \n",
       "1  ...                 0               0                0               0   \n",
       "2  ...                 0               0                0               0   \n",
       "3  ...                 0               0                1               0   \n",
       "4  ...                 0               0                0               0   \n",
       "\n",
       "   Category_New  Category_Sci-Fi  Category_Sports  Category_Travel  \\\n",
       "0             0                0                0                0   \n",
       "1             0                0                1                0   \n",
       "2             0                0                0                0   \n",
       "3             0                0                0                0   \n",
       "4             0                0                0                0   \n",
       "\n",
       "   Rented Last Month_No  Rented Last Month_Yes  \n",
       "0                     0                      1  \n",
       "1                     0                      1  \n",
       "2                     0                      1  \n",
       "3                     1                      0  \n",
       "4                     0                      1  \n",
       "\n",
       "[5 rows x 615 columns]"
      ]
     },
     "execution_count": 98,
     "metadata": {},
     "output_type": "execute_result"
    }
   ],
   "source": [
    "#Dummies\n",
    "x_cat_dummies=pd.get_dummies(x_cat, drop_first=False, dtype=None)\n",
    "x_cat_dummies.head()"
   ]
  },
  {
   "cell_type": "code",
   "execution_count": 99,
   "metadata": {},
   "outputs": [
    {
     "data": {
      "text/html": [
       "<div>\n",
       "<style scoped>\n",
       "    .dataframe tbody tr th:only-of-type {\n",
       "        vertical-align: middle;\n",
       "    }\n",
       "\n",
       "    .dataframe tbody tr th {\n",
       "        vertical-align: top;\n",
       "    }\n",
       "\n",
       "    .dataframe thead th {\n",
       "        text-align: right;\n",
       "    }\n",
       "</style>\n",
       "<table border=\"1\" class=\"dataframe\">\n",
       "  <thead>\n",
       "    <tr style=\"text-align: right;\">\n",
       "      <th></th>\n",
       "      <th>City_A Corua (La Corua)</th>\n",
       "      <th>City_Abha</th>\n",
       "      <th>City_Abu Dhabi</th>\n",
       "      <th>City_Acua</th>\n",
       "      <th>City_Adana</th>\n",
       "      <th>City_Addis Abeba</th>\n",
       "      <th>City_Aden</th>\n",
       "      <th>City_Adoni</th>\n",
       "      <th>City_Ahmadnagar</th>\n",
       "      <th>City_Akishima</th>\n",
       "      <th>...</th>\n",
       "      <th>Category_Horror</th>\n",
       "      <th>Category_Music</th>\n",
       "      <th>Category_New</th>\n",
       "      <th>Category_Sci-Fi</th>\n",
       "      <th>Category_Sports</th>\n",
       "      <th>Category_Travel</th>\n",
       "      <th>Rented Last Month_No</th>\n",
       "      <th>Rented Last Month_Yes</th>\n",
       "      <th>Total Films Rented</th>\n",
       "      <th>Total Money Spent</th>\n",
       "    </tr>\n",
       "  </thead>\n",
       "  <tbody>\n",
       "    <tr>\n",
       "      <th>0</th>\n",
       "      <td>0</td>\n",
       "      <td>0</td>\n",
       "      <td>0</td>\n",
       "      <td>0</td>\n",
       "      <td>0</td>\n",
       "      <td>0</td>\n",
       "      <td>0</td>\n",
       "      <td>0</td>\n",
       "      <td>0</td>\n",
       "      <td>0</td>\n",
       "      <td>...</td>\n",
       "      <td>0</td>\n",
       "      <td>0</td>\n",
       "      <td>0</td>\n",
       "      <td>0</td>\n",
       "      <td>0</td>\n",
       "      <td>0</td>\n",
       "      <td>0</td>\n",
       "      <td>1</td>\n",
       "      <td>0.260335</td>\n",
       "      <td>0.965518</td>\n",
       "    </tr>\n",
       "    <tr>\n",
       "      <th>1</th>\n",
       "      <td>0</td>\n",
       "      <td>0</td>\n",
       "      <td>0</td>\n",
       "      <td>0</td>\n",
       "      <td>0</td>\n",
       "      <td>0</td>\n",
       "      <td>0</td>\n",
       "      <td>0</td>\n",
       "      <td>0</td>\n",
       "      <td>0</td>\n",
       "      <td>...</td>\n",
       "      <td>0</td>\n",
       "      <td>0</td>\n",
       "      <td>0</td>\n",
       "      <td>0</td>\n",
       "      <td>1</td>\n",
       "      <td>0</td>\n",
       "      <td>0</td>\n",
       "      <td>1</td>\n",
       "      <td>0.205275</td>\n",
       "      <td>0.978704</td>\n",
       "    </tr>\n",
       "    <tr>\n",
       "      <th>2</th>\n",
       "      <td>0</td>\n",
       "      <td>0</td>\n",
       "      <td>0</td>\n",
       "      <td>0</td>\n",
       "      <td>0</td>\n",
       "      <td>0</td>\n",
       "      <td>0</td>\n",
       "      <td>0</td>\n",
       "      <td>0</td>\n",
       "      <td>0</td>\n",
       "      <td>...</td>\n",
       "      <td>0</td>\n",
       "      <td>0</td>\n",
       "      <td>0</td>\n",
       "      <td>0</td>\n",
       "      <td>0</td>\n",
       "      <td>0</td>\n",
       "      <td>0</td>\n",
       "      <td>1</td>\n",
       "      <td>0.188123</td>\n",
       "      <td>0.982146</td>\n",
       "    </tr>\n",
       "    <tr>\n",
       "      <th>3</th>\n",
       "      <td>0</td>\n",
       "      <td>0</td>\n",
       "      <td>0</td>\n",
       "      <td>0</td>\n",
       "      <td>0</td>\n",
       "      <td>0</td>\n",
       "      <td>0</td>\n",
       "      <td>0</td>\n",
       "      <td>0</td>\n",
       "      <td>0</td>\n",
       "      <td>...</td>\n",
       "      <td>1</td>\n",
       "      <td>0</td>\n",
       "      <td>0</td>\n",
       "      <td>0</td>\n",
       "      <td>0</td>\n",
       "      <td>0</td>\n",
       "      <td>1</td>\n",
       "      <td>0</td>\n",
       "      <td>0.259779</td>\n",
       "      <td>0.965668</td>\n",
       "    </tr>\n",
       "    <tr>\n",
       "      <th>4</th>\n",
       "      <td>0</td>\n",
       "      <td>0</td>\n",
       "      <td>0</td>\n",
       "      <td>0</td>\n",
       "      <td>0</td>\n",
       "      <td>0</td>\n",
       "      <td>0</td>\n",
       "      <td>0</td>\n",
       "      <td>0</td>\n",
       "      <td>0</td>\n",
       "      <td>...</td>\n",
       "      <td>0</td>\n",
       "      <td>0</td>\n",
       "      <td>0</td>\n",
       "      <td>0</td>\n",
       "      <td>0</td>\n",
       "      <td>0</td>\n",
       "      <td>0</td>\n",
       "      <td>1</td>\n",
       "      <td>0.254131</td>\n",
       "      <td>0.967170</td>\n",
       "    </tr>\n",
       "  </tbody>\n",
       "</table>\n",
       "<p>5 rows × 617 columns</p>\n",
       "</div>"
      ],
      "text/plain": [
       "   City_A Corua (La Corua)  City_Abha  City_Abu Dhabi  City_Acua  City_Adana  \\\n",
       "0                        0          0               0          0           0   \n",
       "1                        0          0               0          0           0   \n",
       "2                        0          0               0          0           0   \n",
       "3                        0          0               0          0           0   \n",
       "4                        0          0               0          0           0   \n",
       "\n",
       "   City_Addis Abeba  City_Aden  City_Adoni  City_Ahmadnagar  City_Akishima  \\\n",
       "0                 0          0           0                0              0   \n",
       "1                 0          0           0                0              0   \n",
       "2                 0          0           0                0              0   \n",
       "3                 0          0           0                0              0   \n",
       "4                 0          0           0                0              0   \n",
       "\n",
       "   ...  Category_Horror  Category_Music  Category_New  Category_Sci-Fi  \\\n",
       "0  ...                0               0             0                0   \n",
       "1  ...                0               0             0                0   \n",
       "2  ...                0               0             0                0   \n",
       "3  ...                1               0             0                0   \n",
       "4  ...                0               0             0                0   \n",
       "\n",
       "   Category_Sports  Category_Travel  Rented Last Month_No  \\\n",
       "0                0                0                     0   \n",
       "1                1                0                     0   \n",
       "2                0                0                     0   \n",
       "3                0                0                     1   \n",
       "4                0                0                     0   \n",
       "\n",
       "   Rented Last Month_Yes  Total Films Rented  Total Money Spent  \n",
       "0                      1            0.260335           0.965518  \n",
       "1                      1            0.205275           0.978704  \n",
       "2                      1            0.188123           0.982146  \n",
       "3                      0            0.259779           0.965668  \n",
       "4                      1            0.254131           0.967170  \n",
       "\n",
       "[5 rows x 617 columns]"
      ]
     },
     "execution_count": 99,
     "metadata": {},
     "output_type": "execute_result"
    }
   ],
   "source": [
    "### IV. Concatenate x data\n",
    "x_processed=pd.concat([x_cat_dummies,x_num_norm],axis=1)\n",
    "x_processed.head()"
   ]
  },
  {
   "cell_type": "markdown",
   "metadata": {},
   "source": [
    "# V. The Model"
   ]
  },
  {
   "cell_type": "code",
   "execution_count": 100,
   "metadata": {},
   "outputs": [],
   "source": [
    "from sklearn.model_selection import train_test_split\n",
    "x_train, x_test, y_train, y_test = train_test_split(x_processed, y, test_size=0.2, random_state=250)"
   ]
  },
  {
   "cell_type": "code",
   "execution_count": 101,
   "metadata": {},
   "outputs": [],
   "source": [
    "from sklearn.linear_model import LogisticRegression\n",
    "classification = LogisticRegression(random_state=0, solver='lbfgs',\n",
    "                  multi_class='ovr').fit(x_train, y_train)"
   ]
  },
  {
   "cell_type": "code",
   "execution_count": 103,
   "metadata": {},
   "outputs": [],
   "source": [
    "from sklearn.metrics import accuracy_score\n",
    "predictions = classification.predict(x_test)"
   ]
  },
  {
   "cell_type": "code",
   "execution_count": 104,
   "metadata": {},
   "outputs": [
    {
     "name": "stdout",
     "output_type": "stream",
     "text": [
      "The accuracy of the model on test set is: 0.97 \n"
     ]
    },
    {
     "data": {
      "image/png": "[encoded data removed]",
      "text/plain": [
       "<Figure size 432x288 with 2 Axes>"
      ]
     },
     "metadata": {},
     "output_type": "display_data"
    },
    {
     "name": "stdout",
     "output_type": "stream",
     "text": [
      "Cohen Kappa score 0.0\n"
     ]
    }
   ],
   "source": [
    "from sklearn.metrics import confusion_matrix\n",
    "from sklearn.metrics import plot_confusion_matrix\n",
    "print(\"The accuracy of the model on test set is: %4.2f \" % accuracy_score(y_test, predictions))\n",
    "confusion_matrix(y_test, predictions)\n",
    "plot_confusion_matrix(classification, x_test, y_test)  # doctest: +SKIP\n",
    "plt.show()  # doctest: +SKIP\n",
    "\n",
    "from sklearn.metrics import cohen_kappa_score\n",
    "print('Cohen Kappa score',cohen_kappa_score(y_test, predictions))"
   ]
  },
  {
   "cell_type": "markdown",
   "metadata": {},
   "source": [
    "**Conclusion: WE DO NOT HAVE ENOUGH NO´S IN OUR DATA SET THAT IS WHY THE YES IS SO WELL PREDICTED AND THE NO IS NOT**\n",
    "\n",
    "**In order to improve our model we should consider other normalisation methods, increase our data set to increase the number of \"No\" values, removing variables so decrease multicolinearity, leaving the \"Rented Last Month\" with the number and without transforming it...**"
   ]
  },
  {
   "cell_type": "code",
   "execution_count": null,
   "metadata": {},
   "outputs": [],
   "source": []
  }
 ],
 "metadata": {
  "kernelspec": {
   "display_name": "Python 3",
   "language": "python",
   "name": "python3"
  },
  "language_info": {
   "codemirror_mode": {
    "name": "ipython",
    "version": 3
   },
   "file_extension": ".py",
   "mimetype": "text/x-python",
   "name": "python",
   "nbconvert_exporter": "python",
   "pygments_lexer": "ipython3",
   "version": "3.8.3"
  }
 },
 "nbformat": 4,
 "nbformat_minor": 4
}
